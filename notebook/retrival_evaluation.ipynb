{
 "cells": [
  {
   "cell_type": "code",
   "execution_count": 10,
   "metadata": {},
   "outputs": [
    {
     "name": "stdout",
     "output_type": "stream",
     "text": [
      "                                               input  \\\n",
      "0  What are the key differences between stocks an...   \n",
      "1  What factors should I consider when creating a...   \n",
      "2  What is the role of inflation in determining i...   \n",
      "3  How do I assess the risk and return of differe...   \n",
      "4  What is the significance of credit scores,  an...   \n",
      "5  How does a mortgage work, and what are the dif...   \n",
      "6  What are the benefits and risks of investing i...   \n",
      "7  How can I effectively plan for retirement and ...   \n",
      "8  What are exchange-traded funds (ETFs), and how...   \n",
      "9  How does compound interest work, and why is it...   \n",
      "\n",
      "                                         instruction  \n",
      "0  Provide a clear comparison between stocks and ...  \n",
      "1  List and explain the essential factors to cons...  \n",
      "2  Explain how inflation impacts interest rates, ...  \n",
      "3  Outline the steps for assessing the risk and r...  \n",
      "4  Explain what credit scores are, why they matte...  \n",
      "5  Describe the basics of how mortgages work, inc...  \n",
      "6  Present a balanced overview of cryptocurrency ...  \n",
      "7  Provide a step-by-step guide for retirement pl...  \n",
      "8  Define ETFs and mutual funds, explaining how t...  \n",
      "9  Explain the concept of compound interest with ...  \n"
     ]
    }
   ],
   "source": [
    "import pandas as pd\n",
    "from io import StringIO\n",
    "\n",
    "with open('../data/question_sample.csv', 'r', encoding='gbk') as f:\n",
    "    df_question = f.read()\n",
    "\n",
    "data_io = StringIO(df_question)\n",
    "df_question = pd.read_csv(data_io)\n",
    "print(df_question.head(10))"
   ]
  },
  {
   "cell_type": "code",
   "execution_count": 11,
   "metadata": {},
   "outputs": [
    {
     "data": {
      "text/plain": [
       "{'input': 'What are the key differences between stocks and bonds?',\n",
       " 'instruction': 'Provide a clear comparison between stocks and bonds, highlighting differences in ownership, risk, return, and how they function as investment vehicles. Use simple, easy-to-understand language.'}"
      ]
     },
     "execution_count": 11,
     "metadata": {},
     "output_type": "execute_result"
    }
   ],
   "source": [
    "ground_truth = df_question.to_dict(orient='records')\n",
    "ground_truth[0]"
   ]
  },
  {
   "cell_type": "code",
   "execution_count": null,
   "metadata": {},
   "outputs": [],
   "source": [
    "import rag\n",
    "\n",
    "def evaluate_all(test_data):\n",
    "    total_rr = 0  \n",
    "    total_hits = 0  \n",
    "    total_questions = len(test_data)  \n",
    "\n",
    "    for i, row in test_data.iterrows():\n",
    "        query = row['input']\n",
    "        result = rag.rag_with_evaluation(query)\n",
    "\n",
    "        relevance = result['evaluated_result']['relevance']\n",
    "\n",
    "        # MRR: Reciprocal Rank is 1 if relevant, otherwise 0\n",
    "        if relevance in [\"RELEVANT\", \"PARTLY_RELEVANT\"]:\n",
    "            rr = 1  # Only one answer is generated, so RR is 1 if relevant\n",
    "            total_rr += rr\n",
    "            total_hits += 1  # For Hit Rate, relevant counts as 1\n",
    "        else:\n",
    "            rr = 0  # Not relevant, RR is 0\n",
    "\n",
    "        print(f\"Query {i+1}: Answer={result['evaluated_result']['answer']}, Relevance={relevance}, RR={rr}, Hit={1 if rr else 0}, Time Taken={result['response_time']}s\")\n",
    "\n",
    "    final_mrr = total_rr / total_questions\n",
    "    final_hit_rate = total_hits / total_questions\n",
    "\n",
    "    return final_mrr, final_hit_rate"
   ]
  },
  {
   "cell_type": "code",
   "execution_count": null,
   "metadata": {},
   "outputs": [],
   "source": [
    "final_mrr, final_hit_rate = evaluate_all(ground_truth)\n",
    "print(final_mrr)\n",
    "print(final_hit_rate)"
   ]
  }
 ],
 "metadata": {
  "kernelspec": {
   "display_name": "Python 3",
   "language": "python",
   "name": "python3"
  },
  "language_info": {
   "codemirror_mode": {
    "name": "ipython",
    "version": 3
   },
   "file_extension": ".py",
   "mimetype": "text/x-python",
   "name": "python",
   "nbconvert_exporter": "python",
   "pygments_lexer": "ipython3",
   "version": "3.8.5"
  }
 },
 "nbformat": 4,
 "nbformat_minor": 2
}
