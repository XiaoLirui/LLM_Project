{
 "cells": [
  {
   "cell_type": "code",
   "execution_count": 10,
   "metadata": {},
   "outputs": [],
   "source": [
    "from datasets import load_dataset\n",
    "import pandas as pd\n",
    "\n",
    "# First time run this code, and it will download a json file \n",
    "dataset = load_dataset(\"taddeusb90/finbro-v0.1.0\", cache_dir=\"../data\")"
   ]
  },
  {
   "cell_type": "code",
   "execution_count": 11,
   "metadata": {},
   "outputs": [
    {
     "name": "stdout",
     "output_type": "stream",
     "text": [
      "                                                  input  \\\n",
      "0     Residual Standard Deviation: Definition, Formu...   \n",
      "1           How to Use a Home Equity Loan for a Remodel   \n",
      "2              Microsoft (MSFT) Unveils Space Ambitions   \n",
      "3                              Crime of 1873 Definition   \n",
      "4     What Is a Capital Asset? How It Works, With Ex...   \n",
      "...                                                 ...   \n",
      "9995  Student Loan Payments Are Restarting Sunday. T...   \n",
      "9996     Prenuptial Agreement: What it is, How it Works   \n",
      "9997  Nvidia Introduces Slower Gaming Chip in China ...   \n",
      "9998  5 Takeaways From the SEC's Complaint Against Musk   \n",
      "9999  Resilient Labor Market Bounced Back in April A...   \n",
      "\n",
      "                                            instruction  \\\n",
      "0      In the given passage, how are residual values...   \n",
      "1      What are some advantages of using a home equi...   \n",
      "2      Which companies has AWS partnered with to bro...   \n",
      "3      When was the accessed date for the given text...   \n",
      "4      What factors can contribute to the total cost...   \n",
      "...                                                 ...   \n",
      "9995   What are some potential benefits and changes ...   \n",
      "9996   What are some reasons why couples enter into ...   \n",
      "9997   What event may have influenced Nvidia to rele...   \n",
      "9998   Who is accused by federal regulators of makin...   \n",
      "9999   What did the text passage indicate about job ...   \n",
      "\n",
      "                                                 output                source  \n",
      "0     \\nStart by calculating residual values. For ex...  Investopedia Dataset  \n",
      "1      Here are some to keep in mind:\\nBecause home ...  Investopedia Dataset  \n",
      "2      AWS has also been broadening its space capabi...  Investopedia Dataset  \n",
      "3      Accessed Dec. 14, 2020.\\n Summary of answer: ...  Investopedia Dataset  \n",
      "4     \\nThe cost for capital assets may include tran...  Investopedia Dataset  \n",
      "...                                                 ...                   ...  \n",
      "9995   \"The Limited PSLF Waiver: A Game Changer for ...  Investopedia Dataset  \n",
      "9996  ' Determining whether an agreement is fair req...  Investopedia Dataset  \n",
      "9997  S. restrictions on technology sales to that co...  Investopedia Dataset  \n",
      "9998  \\nDaniel Liberto is a journalist with over 10 ...  Investopedia Dataset  \n",
      "9999   The first increase since December defied the ...  Investopedia Dataset  \n",
      "\n",
      "[10000 rows x 4 columns]\n"
     ]
    }
   ],
   "source": [
    "dataset = pd.DataFrame(dataset)\n",
    "\n",
    "dataset = pd.json_normalize(dataset['train'])\n",
    "dataset = dataset.head(10000)\n",
    "dataset = dataset.dropna(subset=['input', 'instruction','output'])\n",
    "print(dataset)"
   ]
  },
  {
   "cell_type": "code",
   "execution_count": 12,
   "metadata": {},
   "outputs": [
    {
     "data": {
      "text/plain": [
       "<minsearch.Index at 0x273942b41c0>"
      ]
     },
     "execution_count": 12,
     "metadata": {},
     "output_type": "execute_result"
    }
   ],
   "source": [
    "import minsearch\n",
    "\n",
    "index = minsearch.Index(\n",
    "        text_fields=[\"input\",'instruction','output'],  \n",
    "        keyword_fields=[], \n",
    ")\n",
    "\n",
    "documents = dataset.to_dict(orient=\"records\")\n",
    "# print(documents)\n",
    "index.fit(documents)"
   ]
  },
  {
   "cell_type": "code",
   "execution_count": 13,
   "metadata": {},
   "outputs": [
    {
     "name": "stderr",
     "output_type": "stream",
     "text": [
      "Some weights of the PyTorch model were not used when initializing the TF 2.0 model TFRobertaForQuestionAnswering: ['roberta.embeddings.position_ids']\n",
      "- This IS expected if you are initializing TFRobertaForQuestionAnswering from a PyTorch model trained on another task or with another architecture (e.g. initializing a TFBertForSequenceClassification model from a BertForPreTraining model).\n",
      "- This IS NOT expected if you are initializing TFRobertaForQuestionAnswering from a PyTorch model that you expect to be exactly identical (e.g. initializing a TFBertForSequenceClassification model from a BertForSequenceClassification model).\n",
      "All the weights of TFRobertaForQuestionAnswering were initialized from the PyTorch model.\n",
      "If your task is similar to the task the model of the checkpoint was trained on, you can already use TFRobertaForQuestionAnswering for predictions without further training.\n",
      "c:\\Users\\86178\\Python-3.8\\lib\\site-packages\\transformers\\tokenization_utils_base.py:1617: FutureWarning: `clean_up_tokenization_spaces` was not set. It will be set to `True` by default. This behavior will be deprecated in transformers v4.45, and will be then set to `False` by default. For more details check this issue: https://github.com/huggingface/transformers/issues/31884\n",
      "  warnings.warn(\n"
     ]
    },
    {
     "name": "stdout",
     "output_type": "stream",
     "text": [
      "Answer: annual percentage rate\n"
     ]
    }
   ],
   "source": [
    "from transformers import pipeline\n",
    "\n",
    "llm = pipeline(\"question-answering\", model=\"deepset/roberta-base-squad2\")  \n",
    "# llm = pipeline(\"text-generation\", model=\"gpt2\")  \n",
    "\n",
    "\n",
    "def search(query):\n",
    "    boost = {}\n",
    "    \n",
    "    results = index.search(\n",
    "        query=query,\n",
    "        filter_dict={},\n",
    "        boost_dict=boost,\n",
    "        num_results=10\n",
    "    )\n",
    "\n",
    "    return results\n",
    "\n",
    "prompt_template = \"\"\"\n",
    "You're a financial analyst. Answer the QUESTION based on the CONTEXT from our finance database, and the output is for your reference.\n",
    "Use only the facts from the CONTEXT when answering the QUESTION.\n",
    "QUESTION: {question}\n",
    "CONTEXT:{context}\n",
    "\"\"\".strip()\n",
    "\n",
    "entry_template = \"\"\"\n",
    "input: {input}\n",
    "instruction: {instruction}\n",
    "output: {output}\n",
    "\"\"\".strip()\n",
    "\n",
    "def build_prompt(query, search_results):\n",
    "    context = \"\"\n",
    "    \n",
    "    for doc in search_results:\n",
    "        context += entry_template.format(**doc) + \"\\n\\n\"\n",
    "\n",
    "    prompt = prompt_template.format(question=query, context=context).strip()\n",
    "    # print(prompt)\n",
    "    return prompt\n",
    "\n",
    "def rag(query):\n",
    "    search_results = search(query)\n",
    "    if not search_results:\n",
    "        return \"No relevant documents found.\"\n",
    "    prompt = build_prompt(query, search_results)\n",
    "    # print(llm(prompt,max_new_tokens=50,num_return_sequences=1,truncation=True, pad_token_id=50256))\n",
    "    # response = llm(prompt,max_new_tokens=100,num_return_sequences=1,truncation=True, pad_token_id=50256)[0]['generated_text']\n",
    "    \n",
    "    response = llm(question=query, context=prompt)\n",
    "    return response['answer']\n",
    "\n",
    "\n",
    "question = 'What is APR?'\n",
    "answer = rag(question)\n",
    "print(\"Answer:\",answer)"
   ]
  },
  {
   "cell_type": "code",
   "execution_count": null,
   "metadata": {},
   "outputs": [],
   "source": []
  }
 ],
 "metadata": {
  "kernelspec": {
   "display_name": "Python 3",
   "language": "python",
   "name": "python3"
  },
  "language_info": {
   "codemirror_mode": {
    "name": "ipython",
    "version": 3
   },
   "file_extension": ".py",
   "mimetype": "text/x-python",
   "name": "python",
   "nbconvert_exporter": "python",
   "pygments_lexer": "ipython3",
   "version": "3.8.5"
  }
 },
 "nbformat": 4,
 "nbformat_minor": 2
}
