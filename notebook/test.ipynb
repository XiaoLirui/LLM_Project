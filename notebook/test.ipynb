{
 "cells": [
  {
   "cell_type": "code",
   "execution_count": 3,
   "metadata": {},
   "outputs": [
    {
     "name": "stderr",
     "output_type": "stream",
     "text": [
      "Generating train split: 100%|██████████| 384058/384058 [00:01<00:00, 309274.34 examples/s]\n"
     ]
    }
   ],
   "source": [
    "from datasets import load_dataset\n",
    "import pandas as pd\n",
    "\n",
    "# First time run this code, and it will download a json file \n",
    "dataset = load_dataset(\"taddeusb90/finbro-v0.1.0\", cache_dir=\"../data\")\n",
    "dataset = pd.DataFrame(dataset)\n",
    "dataset = pd.json_normalize(dataset['train'])"
   ]
  },
  {
   "cell_type": "code",
   "execution_count": 4,
   "metadata": {},
   "outputs": [
    {
     "name": "stdout",
     "output_type": "stream",
     "text": [
      "                                                    input  \\\n",
      "0       Residual Standard Deviation: Definition, Formu...   \n",
      "1             How to Use a Home Equity Loan for a Remodel   \n",
      "2                Microsoft (MSFT) Unveils Space Ambitions   \n",
      "3                                Crime of 1873 Definition   \n",
      "4       What Is a Capital Asset? How It Works, With Ex...   \n",
      "...                                                   ...   \n",
      "384053  You are a financial analyst categorizing tweet...   \n",
      "384054  You are a financial analyst categorizing tweet...   \n",
      "384055  You are a financial analyst categorizing tweet...   \n",
      "384056  You are a financial analyst categorizing tweet...   \n",
      "384057  You are a financial analyst categorizing tweet...   \n",
      "\n",
      "                                              instruction  \\\n",
      "0        In the given passage, how are residual values...   \n",
      "1        What are some advantages of using a home equi...   \n",
      "2        Which companies has AWS partnered with to bro...   \n",
      "3        When was the accessed date for the given text...   \n",
      "4        What factors can contribute to the total cost...   \n",
      "...                                                   ...   \n",
      "384053  KfW credit line for Uniper could be raised to ...   \n",
      "384054  KfW credit line for Uniper could be raised to ...   \n",
      "384055  Russian  https://t.co/R0iPhyo5p7 sells 1 bln r...   \n",
      "384056  Global ESG bond issuance posts H1 dip as supra...   \n",
      "384057  Brazil's Petrobras says it signed a $1.25 bill...   \n",
      "\n",
      "                                                   output  \\\n",
      "0       \\nStart by calculating residual values. For ex...   \n",
      "1        Here are some to keep in mind:\\nBecause home ...   \n",
      "2        AWS has also been broadening its space capabi...   \n",
      "3        Accessed Dec. 14, 2020.\\n Summary of answer: ...   \n",
      "4       \\nThe cost for capital assets may include tran...   \n",
      "...                                                   ...   \n",
      "384053                        Treasuries | Corporate Debt   \n",
      "384054                        Treasuries | Corporate Debt   \n",
      "384055                        Treasuries | Corporate Debt   \n",
      "384056                        Treasuries | Corporate Debt   \n",
      "384057                        Treasuries | Corporate Debt   \n",
      "\n",
      "                       source  \n",
      "0        Investopedia Dataset  \n",
      "1        Investopedia Dataset  \n",
      "2        Investopedia Dataset  \n",
      "3        Investopedia Dataset  \n",
      "4        Investopedia Dataset  \n",
      "...                       ...  \n",
      "384053  Sujet Finance Dataset  \n",
      "384054  Sujet Finance Dataset  \n",
      "384055  Sujet Finance Dataset  \n",
      "384056  Sujet Finance Dataset  \n",
      "384057  Sujet Finance Dataset  \n",
      "\n",
      "[384058 rows x 4 columns]\n"
     ]
    }
   ],
   "source": [
    "print(dataset)"
   ]
  }
 ],
 "metadata": {
  "kernelspec": {
   "display_name": "Python 3",
   "language": "python",
   "name": "python3"
  },
  "language_info": {
   "codemirror_mode": {
    "name": "ipython",
    "version": 3
   },
   "file_extension": ".py",
   "mimetype": "text/x-python",
   "name": "python",
   "nbconvert_exporter": "python",
   "pygments_lexer": "ipython3",
   "version": "3.8.5"
  }
 },
 "nbformat": 4,
 "nbformat_minor": 2
}
